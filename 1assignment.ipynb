{
 "cells": [
  {
   "cell_type": "code",
   "execution_count": 1,
   "id": "09cc1508-4d1f-468c-928f-f392013c58ad",
   "metadata": {},
   "outputs": [],
   "source": [
    "#Q1. creating variables"
   ]
  },
  {
   "cell_type": "code",
   "execution_count": 2,
   "id": "57571230-3e0c-4102-8871-197aed34e86f",
   "metadata": {},
   "outputs": [],
   "source": [
    "a = ['sarthak', 'amisha', 101,92018,738.9,True]"
   ]
  },
  {
   "cell_type": "code",
   "execution_count": 3,
   "id": "fd8df52f-2e6c-4a7f-8365-d9b350478b03",
   "metadata": {},
   "outputs": [
    {
     "data": {
      "text/plain": [
       "list"
      ]
     },
     "execution_count": 3,
     "metadata": {},
     "output_type": "execute_result"
    }
   ],
   "source": [
    "type(a)"
   ]
  },
  {
   "cell_type": "code",
   "execution_count": 4,
   "id": "9cfe2968-6c34-4e8b-8762-680d741cf38f",
   "metadata": {},
   "outputs": [],
   "source": [
    "b= \"I am an Indian\""
   ]
  },
  {
   "cell_type": "code",
   "execution_count": 5,
   "id": "adf7ec68-373c-4b2c-a990-9726a051d5b9",
   "metadata": {},
   "outputs": [
    {
     "data": {
      "text/plain": [
       "str"
      ]
     },
     "execution_count": 5,
     "metadata": {},
     "output_type": "execute_result"
    }
   ],
   "source": [
    "type(b)"
   ]
  },
  {
   "cell_type": "code",
   "execution_count": 6,
   "id": "3752199c-5f20-4cc4-b4ad-3df71b336670",
   "metadata": {},
   "outputs": [
    {
     "data": {
      "text/plain": [
       "tuple"
      ]
     },
     "execution_count": 6,
     "metadata": {},
     "output_type": "execute_result"
    }
   ],
   "source": [
    "fruits=('banana','mango','kiwi')\n",
    "type(fruits)"
   ]
  },
  {
   "cell_type": "code",
   "execution_count": 7,
   "id": "09c13f67-596c-4abc-b13d-12e6536fcd65",
   "metadata": {},
   "outputs": [
    {
     "data": {
      "text/plain": [
       "float"
      ]
     },
     "execution_count": 7,
     "metadata": {},
     "output_type": "execute_result"
    }
   ],
   "source": [
    "fee = 9.98798798\n",
    "type(fee)"
   ]
  },
  {
   "cell_type": "code",
   "execution_count": 8,
   "id": "73ef6da5-dc8d-469a-962c-b48ac61938ef",
   "metadata": {},
   "outputs": [],
   "source": [
    "#Q2.finding data types"
   ]
  },
  {
   "cell_type": "code",
   "execution_count": 9,
   "id": "27ed957a-4808-4bc2-8fbd-012cd2b14bb9",
   "metadata": {},
   "outputs": [
    {
     "data": {
      "text/plain": [
       "str"
      ]
     },
     "execution_count": 9,
     "metadata": {},
     "output_type": "execute_result"
    }
   ],
   "source": [
    "var1 = \"\"\n",
    "type(var1)"
   ]
  },
  {
   "cell_type": "code",
   "execution_count": 10,
   "id": "8dde0665-ad0b-427e-8670-157376a13b7f",
   "metadata": {},
   "outputs": [
    {
     "data": {
      "text/plain": [
       "str"
      ]
     },
     "execution_count": 10,
     "metadata": {},
     "output_type": "execute_result"
    }
   ],
   "source": [
    "var2 = '[ DS , ML , Python]'\n",
    "type(var2)"
   ]
  },
  {
   "cell_type": "code",
   "execution_count": 11,
   "id": "e3670f06-008a-4763-9067-d04ff64a19c0",
   "metadata": {},
   "outputs": [
    {
     "data": {
      "text/plain": [
       "list"
      ]
     },
     "execution_count": 11,
     "metadata": {},
     "output_type": "execute_result"
    }
   ],
   "source": [
    "var3 = [ 'DS' ,'ML' , 'Python' ]\n",
    "type(var3)"
   ]
  },
  {
   "cell_type": "code",
   "execution_count": 12,
   "id": "4a5f0918-f2d1-4cba-ba7b-12b02d91e659",
   "metadata": {},
   "outputs": [
    {
     "data": {
      "text/plain": [
       "float"
      ]
     },
     "execution_count": 12,
     "metadata": {},
     "output_type": "execute_result"
    }
   ],
   "source": [
    "var4 = 1.\n",
    "type(var4)"
   ]
  },
  {
   "cell_type": "code",
   "execution_count": 13,
   "id": "a89588fa-233f-4407-85b4-bf17c3f9535f",
   "metadata": {},
   "outputs": [],
   "source": [
    "#Q3. use of arithmetic operators with example."
   ]
  },
  {
   "cell_type": "code",
   "execution_count": 14,
   "id": "e739fb94-a804-44bc-8508-945c135f44ce",
   "metadata": {},
   "outputs": [],
   "source": [
    "# use of /"
   ]
  },
  {
   "cell_type": "code",
   "execution_count": 15,
   "id": "e2a2c1d6-a49c-4815-b5ab-0cb5faab4f23",
   "metadata": {},
   "outputs": [
    {
     "name": "stdout",
     "output_type": "stream",
     "text": [
      "1.6666666666666667\n"
     ]
    }
   ],
   "source": [
    "a=5\n",
    "d=3\n",
    "print(a/d)"
   ]
  },
  {
   "cell_type": "code",
   "execution_count": 16,
   "id": "2585ab7a-3c68-4fa2-84b1-1de922811eb1",
   "metadata": {},
   "outputs": [
    {
     "name": "stdout",
     "output_type": "stream",
     "text": [
      "1\n"
     ]
    }
   ],
   "source": [
    "#use of //\n",
    "print(a//d) # giving floor value after division"
   ]
  },
  {
   "cell_type": "code",
   "execution_count": 17,
   "id": "944900d2-1961-44b2-bb06-f5f200fc18b0",
   "metadata": {},
   "outputs": [
    {
     "name": "stdout",
     "output_type": "stream",
     "text": [
      "15\n"
     ]
    }
   ],
   "source": [
    "# use of *\n",
    "print(a*d) # multiplying 5 and 3"
   ]
  },
  {
   "cell_type": "code",
   "execution_count": 18,
   "id": "8bf555c9-2ae4-4da9-9b2b-8e372e55419c",
   "metadata": {},
   "outputs": [
    {
     "name": "stdout",
     "output_type": "stream",
     "text": [
      "125\n"
     ]
    }
   ],
   "source": [
    "# use of **\n",
    "print(a**d) # printing 5 to the power 3"
   ]
  },
  {
   "cell_type": "code",
   "execution_count": 19,
   "id": "5cb5baa0-91b9-4b00-87af-ab280900295c",
   "metadata": {},
   "outputs": [],
   "source": [
    "# Q4. craeting list of length 10 and of multiple types of data. Using for loop print the element and its data type."
   ]
  },
  {
   "cell_type": "code",
   "execution_count": 20,
   "id": "a0be136c-2a7b-41cd-bdd2-12e826b33ba9",
   "metadata": {},
   "outputs": [
    {
     "data": {
      "text/plain": [
       "list"
      ]
     },
     "execution_count": 20,
     "metadata": {},
     "output_type": "execute_result"
    }
   ],
   "source": [
    "abc = ['suman', 'preeti', 'devendra', 50485,7465,289.0007, '664', 76+87j,True, False]\n",
    "type(abc)"
   ]
  },
  {
   "cell_type": "code",
   "execution_count": 21,
   "id": "d6d2e101-4def-479f-8886-351708d1139b",
   "metadata": {},
   "outputs": [
    {
     "data": {
      "text/plain": [
       "10"
      ]
     },
     "execution_count": 21,
     "metadata": {},
     "output_type": "execute_result"
    }
   ],
   "source": [
    "len(abc)"
   ]
  },
  {
   "cell_type": "code",
   "execution_count": 22,
   "id": "bc78faa2-2ee6-4866-86bd-ec58f3910bf4",
   "metadata": {},
   "outputs": [
    {
     "name": "stdout",
     "output_type": "stream",
     "text": [
      "suman\n",
      "<class 'str'>\n",
      "preeti\n",
      "<class 'str'>\n",
      "devendra\n",
      "<class 'str'>\n",
      "50485\n",
      "<class 'int'>\n",
      "7465\n",
      "<class 'int'>\n",
      "289.0007\n",
      "<class 'float'>\n",
      "664\n",
      "<class 'str'>\n",
      "(76+87j)\n",
      "<class 'complex'>\n",
      "True\n",
      "<class 'bool'>\n",
      "False\n",
      "<class 'bool'>\n"
     ]
    }
   ],
   "source": [
    "# printing elements and data types\n",
    "for x in abc:\n",
    "    print(x)\n",
    "    print(type(x))"
   ]
  },
  {
   "cell_type": "code",
   "execution_count": null,
   "id": "206593ee-bc7e-4351-b8aa-c88cdd3b443b",
   "metadata": {},
   "outputs": [],
   "source": [
    "a=int(input('gGive A: '))\n",
    "b=int(input(\"Give B : \"))\n",
    "c=0\n",
    "if (a/b==0) :\n",
    "    while(a/b>=b and type(a/b)==int):\n",
    "        c+=1\n",
    "        \n",
    "else:\n",
    "    print(\"not divisible\")"
   ]
  },
  {
   "cell_type": "code",
   "execution_count": null,
   "id": "c9065882-04a6-4be5-81e0-79e5e45ffb0f",
   "metadata": {},
   "outputs": [],
   "source": [
    "# Q6.Create a list containing 25 int type data. Using for loop and if-else condition print if the element is divisible by 3 or not."
   ]
  },
  {
   "cell_type": "code",
   "execution_count": null,
   "id": "bbb98371-b76b-4725-b559-65f824933ac0",
   "metadata": {},
   "outputs": [],
   "source": [
    "num = [1,2,3,4,5,6,7,8,90,11,23,23452,536,546,67,54,69,4546,6554,545,56,456,547,34,64]\n",
    "len(num)\n",
    "for x in num:\n",
    " if x%3==0:\n",
    "    print( +x ,\"is divisible by 3\")\n",
    " else :\n",
    "    print (+x ,\"is not divisible by 3\")"
   ]
  },
  {
   "cell_type": "markdown",
   "id": "ed6b5dbb-d7b6-4209-93e9-38915788dca0",
   "metadata": {},
   "source": [
    "### What do you understand about mutable and immutable data types? Give examples for both showing this property.\n",
    "mutable data types are the data types whose data items can be changed by using index. List , set are mutable i.e.,we change there data items.\n",
    "However, string is immutable . We cannot change it's data items once created.   \n"
   ]
  },
  {
   "cell_type": "code",
   "execution_count": null,
   "id": "b19adbff-b5c5-4d52-ae5c-37cde42b3a8c",
   "metadata": {},
   "outputs": [],
   "source": [
    "name = \"vaishnavi\"\n",
    "name[4]= \"e\" # we are trying to replace s with e but this will throw an error which proves that strings are immutable."
   ]
  },
  {
   "cell_type": "code",
   "execution_count": 35,
   "id": "2857d2c8-9f80-4bb2-b44e-ce7c31a06b48",
   "metadata": {},
   "outputs": [
    {
     "name": "stdout",
     "output_type": "stream",
     "text": [
      "['red', 'green', 'blue', 'purple', 'pink']\n"
     ]
    }
   ],
   "source": [
    "colors = ['red','green','blue','black','pink']\n",
    "colors[3]=\"purple\" # replacing black with purple which shows that lists are mutable\n",
    "print(colors)"
   ]
  },
  {
   "cell_type": "code",
   "execution_count": 36,
   "id": "5fa5edd6-a673-4375-9629-257dbcb48bc3",
   "metadata": {},
   "outputs": [
    {
     "ename": "TypeError",
     "evalue": "'tuple' object does not support item assignment",
     "output_type": "error",
     "traceback": [
      "\u001b[0;31m---------------------------------------------------------------------------\u001b[0m",
      "\u001b[0;31mTypeError\u001b[0m                                 Traceback (most recent call last)",
      "Cell \u001b[0;32mIn[36], line 2\u001b[0m\n\u001b[1;32m      1\u001b[0m city \u001b[38;5;241m=\u001b[39m (\u001b[38;5;124m'\u001b[39m\u001b[38;5;124mjaipur\u001b[39m\u001b[38;5;124m'\u001b[39m,\u001b[38;5;124m'\u001b[39m\u001b[38;5;124mdelhi\u001b[39m\u001b[38;5;124m'\u001b[39m, \u001b[38;5;124m'\u001b[39m\u001b[38;5;124mnoida\u001b[39m\u001b[38;5;124m'\u001b[39m)\n\u001b[0;32m----> 2\u001b[0m \u001b[43mcity\u001b[49m\u001b[43m[\u001b[49m\u001b[38;5;241;43m1\u001b[39;49m\u001b[43m]\u001b[49m\u001b[38;5;241m=\u001b[39m\u001b[38;5;124m'\u001b[39m\u001b[38;5;124mbhopal\u001b[39m\u001b[38;5;124m'\u001b[39m\n\u001b[1;32m      3\u001b[0m \u001b[38;5;28mprint\u001b[39m(city)\n",
      "\u001b[0;31mTypeError\u001b[0m: 'tuple' object does not support item assignment"
     ]
    }
   ],
   "source": [
    "city = ('jaipur','delhi', 'noida')\n",
    "city[1]='bhopal' # will throw eror as tiples are immutable\n",
    "print(city)"
   ]
  },
  {
   "cell_type": "code",
   "execution_count": null,
   "id": "d08afc7c-bdaa-4485-b9ab-368c1a30d83e",
   "metadata": {},
   "outputs": [],
   "source": []
  }
 ],
 "metadata": {
  "kernelspec": {
   "display_name": "Python 3 (ipykernel)",
   "language": "python",
   "name": "python3"
  },
  "language_info": {
   "codemirror_mode": {
    "name": "ipython",
    "version": 3
   },
   "file_extension": ".py",
   "mimetype": "text/x-python",
   "name": "python",
   "nbconvert_exporter": "python",
   "pygments_lexer": "ipython3",
   "version": "3.10.8"
  },
  "toc-autonumbering": true,
  "toc-showcode": true,
  "toc-showmarkdowntxt": true,
  "toc-showtags": true
 },
 "nbformat": 4,
 "nbformat_minor": 5
}
